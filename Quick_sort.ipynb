{
 "cells": [
  {
   "cell_type": "code",
   "execution_count": 9,
   "id": "fa7b402f-47d2-4892-9a99-edb1bc5b1544",
   "metadata": {},
   "outputs": [
    {
     "name": "stdout",
     "output_type": "stream",
     "text": [
      "[1, 2, 3, 4, 5, 6]\n"
     ]
    }
   ],
   "source": [
    "def Quick_sort(arr, lower, upper):\n",
    "    pivot = arr[lower]\n",
    "    start = lower\n",
    "    end = upper\n",
    "    while start < end:\n",
    "        while start < len(arr) and arr[start] <= pivot:\n",
    "            start += 1\n",
    "        while arr[end] > pivot:\n",
    "            end -= 1\n",
    "        if start < end:\n",
    "            arr[start], arr[end] = arr[end], arr[start]\n",
    "    arr[lower], arr[end] = arr[end], arr[lower]\n",
    "    return end\n",
    "\n",
    "def Quick(arr, lower, upper):\n",
    "    if lower < upper:\n",
    "        loc = Quick_sort(arr, lower, upper)\n",
    "        Quick(arr, lower, loc - 1)\n",
    "        Quick(arr, loc + 1, upper)\n",
    "\n",
    "if __name__ == '__main__':\n",
    "    arr = [2, 4, 1, 6, 5, 3]\n",
    "    lower = 0\n",
    "    upper = len(arr) - 1\n",
    "    Quick(arr, lower, upper)\n",
    "    print(arr)\n"
   ]
  },
  {
   "cell_type": "code",
   "execution_count": null,
   "id": "94f5af8b-68b0-4a12-b1eb-39e7cf1bf0a7",
   "metadata": {},
   "outputs": [],
   "source": []
  },
  {
   "cell_type": "code",
   "execution_count": null,
   "id": "782cf6e4-a895-4f2c-90b4-bb3ff520bcef",
   "metadata": {},
   "outputs": [],
   "source": []
  },
  {
   "cell_type": "code",
   "execution_count": null,
   "id": "ad279e74-c36a-48fa-98d2-2a7e2442ffa1",
   "metadata": {},
   "outputs": [],
   "source": []
  }
 ],
 "metadata": {
  "kernelspec": {
   "display_name": "Python 3 (ipykernel)",
   "language": "python",
   "name": "python3"
  },
  "language_info": {
   "codemirror_mode": {
    "name": "ipython",
    "version": 3
   },
   "file_extension": ".py",
   "mimetype": "text/x-python",
   "name": "python",
   "nbconvert_exporter": "python",
   "pygments_lexer": "ipython3",
   "version": "3.11.7"
  }
 },
 "nbformat": 4,
 "nbformat_minor": 5
}
