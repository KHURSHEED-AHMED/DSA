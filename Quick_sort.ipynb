{
 "cells": [
  {
   "cell_type": "code",
   "execution_count": 1,
   "id": "d298ffd5-6cca-4ad4-9439-cf36fa76fc96",
   "metadata": {},
   "outputs": [
    {
     "name": "stdout",
     "output_type": "stream",
     "text": [
      "Sorted array is: [1, 5, 7, 8, 9, 10]\n"
     ]
    }
   ],
   "source": [
    "def Quick_sort(arr, low, high):\n",
    "    pivot = arr[low]\n",
    "    start = low\n",
    "    end = high\n",
    "\n",
    "    while start < end:\n",
    "        while start < len(arr) and arr[start] <= pivot:\n",
    "            start += 1\n",
    "        while arr[end] > pivot:\n",
    "            end -= 1\n",
    "        if start < end:\n",
    "            arr[start], arr[end] = arr[end], arr[start]\n",
    "\n",
    "    arr[low], arr[end] = arr[end], arr[low]\n",
    "    return end\n",
    "\n",
    "def Quick(arr, lower, upper):\n",
    "    if lower < upper:\n",
    "        loc = Quick_sort(arr, lower, upper)\n",
    "        Quick(arr, lower, loc - 1)\n",
    "        Quick(arr, loc + 1, upper)\n",
    "\n",
    "# Example usage\n",
    "arr = [10, 7, 8, 9, 1, 5]\n",
    "lower = 0\n",
    "upper = len(arr) - 1\n",
    "Quick(arr, lower, upper)\n",
    "print(\"Sorted array is:\", arr)\n"
   ]
  },
  {
   "cell_type": "code",
   "execution_count": null,
   "id": "6660b1d9-8021-4bd3-ba54-354758f6d958",
   "metadata": {},
   "outputs": [],
   "source": []
  },
  {
   "cell_type": "code",
   "execution_count": null,
   "id": "6290170a-0e02-4557-9c7c-f6d9c52238af",
   "metadata": {},
   "outputs": [],
   "source": []
  }
 ],
 "metadata": {
  "kernelspec": {
   "display_name": "Python 3 (ipykernel)",
   "language": "python",
   "name": "python3"
  },
  "language_info": {
   "codemirror_mode": {
    "name": "ipython",
    "version": 3
   },
   "file_extension": ".py",
   "mimetype": "text/x-python",
   "name": "python",
   "nbconvert_exporter": "python",
   "pygments_lexer": "ipython3",
   "version": "3.11.7"
  }
 },
 "nbformat": 4,
 "nbformat_minor": 5
}
