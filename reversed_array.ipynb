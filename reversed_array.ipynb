{
 "cells": [
  {
   "cell_type": "markdown",
   "id": "14220740",
   "metadata": {},
   "source": [
    "# first way on-place mean create a new array"
   ]
  },
  {
   "cell_type": "markdown",
   "id": "b2c55ea9",
   "metadata": {},
   "source": [
    "# Time Complexity and space Complexity is O(n):"
   ]
  },
  {
   "cell_type": "code",
   "execution_count": 4,
   "id": "69517829",
   "metadata": {},
   "outputs": [
    {
     "name": "stdout",
     "output_type": "stream",
     "text": [
      "Reversed array:\n",
      "6 5 4 3 2 1 "
     ]
    }
   ],
   "source": [
    "def reverse_arr(arr):\n",
    "    reverse = arr[::-1]\n",
    "    print(\"Reversed array:\")\n",
    "    for i in reverse:\n",
    "        print(i,end=\" \")\n",
    "\n",
    "original_arr = [1,2,3,4,5,6]\n",
    "reverse_arr(original_arr)"
   ]
  },
  {
   "cell_type": "code",
   "execution_count": null,
   "id": "74d1e83a",
   "metadata": {},
   "outputs": [],
   "source": []
  },
  {
   "cell_type": "markdown",
   "id": "370bab01",
   "metadata": {},
   "source": [
    "# second way in-place means in same array"
   ]
  },
  {
   "cell_type": "markdown",
   "id": "ef4cef52",
   "metadata": {},
   "source": [
    "# Time Complexity: O(n) and space Complexity: O(1) "
   ]
  },
  {
   "cell_type": "code",
   "execution_count": 11,
   "id": "ee05cf94",
   "metadata": {},
   "outputs": [
    {
     "name": "stdout",
     "output_type": "stream",
     "text": [
      "[1, 2, 3, 4, 5]\n",
      "[5, 4, 3, 2, 1]\n"
     ]
    }
   ],
   "source": [
    "def reverse_arr(arr,start,end):\n",
    "    while start < end:\n",
    "        arr[start],arr[end]  = arr[end],arr[start]\n",
    "        start +=1\n",
    "        end -=1\n",
    "    \n",
    "        \n",
    "original_arr = [1,2,3,4,5]\n",
    "print(original_arr)\n",
    "reverse_arr(original_arr,0,4)\n",
    "print(original_arr)\n",
    "        \n",
    "    "
   ]
  },
  {
   "cell_type": "code",
   "execution_count": null,
   "id": "949775c7",
   "metadata": {},
   "outputs": [],
   "source": []
  },
  {
   "cell_type": "markdown",
   "id": "03d4a413",
   "metadata": {},
   "source": [
    "# Third way of reversing array using stack"
   ]
  },
  {
   "cell_type": "code",
   "execution_count": null,
   "id": "5a72af64",
   "metadata": {},
   "outputs": [],
   "source": []
  },
  {
   "cell_type": "code",
   "execution_count": 14,
   "id": "aae21fb4",
   "metadata": {},
   "outputs": [
    {
     "name": "stdout",
     "output_type": "stream",
     "text": [
      "[1, 2, 3, 4, 5, 6, 7]\n",
      "[7, 6, 5, 4, 3, 2, 1]\n"
     ]
    }
   ],
   "source": [
    "def reverse_arr_using_stack(arr):\n",
    "    stack =[]\n",
    "    for elements in arr:\n",
    "        stack.append(elements)\n",
    "        \n",
    "    for i in range(len(arr)):\n",
    "        arr[i] = stack.pop()\n",
    "     \n",
    "original_arr = [1,2,3,4,5,6,7]\n",
    "print(original_arr)\n",
    "reverse_arr_using_stack(original_arr)\n",
    "print(original_arr)"
   ]
  },
  {
   "cell_type": "code",
   "execution_count": null,
   "id": "69cfb645",
   "metadata": {},
   "outputs": [],
   "source": []
  }
 ],
 "metadata": {
  "kernelspec": {
   "display_name": "Python 3 (ipykernel)",
   "language": "python",
   "name": "python3"
  },
  "language_info": {
   "codemirror_mode": {
    "name": "ipython",
    "version": 3
   },
   "file_extension": ".py",
   "mimetype": "text/x-python",
   "name": "python",
   "nbconvert_exporter": "python",
   "pygments_lexer": "ipython3",
   "version": "3.11.5"
  }
 },
 "nbformat": 4,
 "nbformat_minor": 5
}
