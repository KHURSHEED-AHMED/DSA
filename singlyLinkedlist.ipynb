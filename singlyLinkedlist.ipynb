{
 "cells": [
  {
   "cell_type": "code",
   "execution_count": 1,
   "id": "4b9f0b82",
   "metadata": {},
   "outputs": [],
   "source": [
    "class Node:\n",
    "    def __init__(self,data = None,next = None):\n",
    "        self.data = data\n",
    "        self.next = next"
   ]
  },
  {
   "cell_type": "code",
   "execution_count": 2,
   "id": "2c97a782",
   "metadata": {},
   "outputs": [],
   "source": [
    "class LinkedList:\n",
    "    def __init__(self):\n",
    "        self.head = None\n",
    "        \n",
    "    def insert_at_beginning(self,data):\n",
    "        new_node = Node(data)\n",
    "        new_node.next = self.head\n",
    "        self.head = new_node\n",
    "    \n",
    "    def insert_at_end(self,data):\n",
    "        new_node = Node(data)\n",
    "        if self.head is None:\n",
    "            self.head = new_node   \n",
    "        else:   \n",
    "            itr = self.head\n",
    "            while itr.next:\n",
    "                itr = itr.next\n",
    "            itr.next = new_node    \n",
    "    \n",
    "    def insert_at_position(self,inde,data):\n",
    "        if inde<0:\n",
    "            print(\"inde is out of range\")\n",
    "            return\n",
    "        if inde == 0:\n",
    "            self.insert_at_beginning(data)\n",
    "            return\n",
    "        new_node = Node(data)\n",
    "        current = self.head\n",
    "        prev = None\n",
    "        count = 0\n",
    "        while current and count < inde:\n",
    "            prev = current\n",
    "            current = current.next\n",
    "            count +=1\n",
    "        if count<inde:\n",
    "            print(\"inde out of range\")\n",
    "            return\n",
    "        prev.next = new_node\n",
    "        new_node.next = current\n",
    "        \n",
    "       \n",
    "    \n",
    "    def print_data(self):\n",
    "        if self.head is None:\n",
    "            print(\"list is empty\")\n",
    "            return\n",
    "        \n",
    "        itr = self.head\n",
    "        llstr = ''\n",
    "        while itr:\n",
    "            llstr +=str(itr.data)+\"-->\"\n",
    "            itr = itr.next\n",
    "        print(llstr)    "
   ]
  },
  {
   "cell_type": "code",
   "execution_count": 3,
   "id": "b6ad3b9f",
   "metadata": {},
   "outputs": [
    {
     "name": "stdout",
     "output_type": "stream",
     "text": [
      "35-->34-->3-->100-->1-->\n"
     ]
    }
   ],
   "source": [
    "if __name__ == '__main__':\n",
    "    ll= LinkedList()\n",
    "    ll.insert_at_beginning(34)\n",
    "    ll.insert_at_beginning(35)\n",
    "    ll.insert_at_end(3)\n",
    "    ll.insert_at_end(1)\n",
    "    ll.insert_at_position(3,100)\n",
    "    ll.print_data()\n",
    "    "
   ]
  },
  {
   "cell_type": "code",
   "execution_count": null,
   "id": "921addfe",
   "metadata": {},
   "outputs": [],
   "source": []
  },
  {
   "cell_type": "code",
   "execution_count": null,
   "id": "09bfbbae",
   "metadata": {},
   "outputs": [],
   "source": []
  }
 ],
 "metadata": {
  "kernelspec": {
   "display_name": "Python 3 (ipykernel)",
   "language": "python",
   "name": "python3"
  },
  "language_info": {
   "codemirror_mode": {
    "name": "ipython",
    "version": 3
   },
   "file_extension": ".py",
   "mimetype": "text/x-python",
   "name": "python",
   "nbconvert_exporter": "python",
   "pygments_lexer": "ipython3",
   "version": "3.11.5"
  }
 },
 "nbformat": 4,
 "nbformat_minor": 5
}
