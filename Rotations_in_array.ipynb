{
 "cells": [
  {
   "cell_type": "markdown",
   "id": "bd32ddb9",
   "metadata": {},
   "source": [
    "# Rotations of the array two types of the rotation can be performed in the array left rotation or right rotation"
   ]
  },
  {
   "cell_type": "markdown",
   "id": "4a6c9736",
   "metadata": {},
   "source": [
    "# a = [1,2,3,4,5,6]   left rotation   a = [2,3,4,5,6,1]"
   ]
  },
  {
   "cell_type": "markdown",
   "id": "c3b3f5a8",
   "metadata": {},
   "source": [
    "# a = [1,2,3,4,5,6]   Right rotation   a = [6,1,2,3,4,5] "
   ]
  },
  {
   "cell_type": "code",
   "execution_count": 1,
   "id": "2a905272",
   "metadata": {},
   "outputs": [
    {
     "name": "stdout",
     "output_type": "stream",
     "text": [
      "[2, 3, 4, 5, 1]\n"
     ]
    }
   ],
   "source": [
    "a = [1,2,3,4,5]\n",
    "dumy = a[0]\n",
    "for i in range(0,len(a)-1):\n",
    "    if i < len(a)-1:\n",
    "        a[i] = a[i+1]\n",
    "else:\n",
    "    a[i+1] = dumy\n",
    "print(a)    "
   ]
  },
  {
   "cell_type": "code",
   "execution_count": null,
   "id": "e56c8db6",
   "metadata": {},
   "outputs": [],
   "source": []
  },
  {
   "cell_type": "code",
   "execution_count": 4,
   "id": "02a5023e",
   "metadata": {},
   "outputs": [
    {
     "name": "stdout",
     "output_type": "stream",
     "text": [
      "[3, 4, 5, 6, 1, 2]\n"
     ]
    }
   ],
   "source": [
    "a = [1,2,3,4,5,6]\n",
    "d=2\n",
    "for i in (0,d):\n",
    "    dumy =a[0]\n",
    "    for j in range(len(a)-1):\n",
    "            a[j] = a[j+1]\n",
    "    else:\n",
    "        a[j+1] = dumy\n",
    "print(a)        "
   ]
  },
  {
   "cell_type": "code",
   "execution_count": 5,
   "id": "e64f6a38",
   "metadata": {},
   "outputs": [
    {
     "name": "stdout",
     "output_type": "stream",
     "text": [
      "[5, 1, 2, 3, 4]\n"
     ]
    }
   ],
   "source": [
    "a = [1,2,3,4,5]\n",
    "i=5\n",
    "dumy = a[i-1]\n",
    "for i in range(4,0,-1):\n",
    "        a[i] = a[i-1]\n",
    "else:\n",
    "    a[0] = dumy\n",
    "print(a) "
   ]
  },
  {
   "cell_type": "code",
   "execution_count": null,
   "id": "eed1fa33",
   "metadata": {},
   "outputs": [],
   "source": []
  },
  {
   "cell_type": "code",
   "execution_count": null,
   "id": "10ee6838",
   "metadata": {},
   "outputs": [],
   "source": []
  }
 ],
 "metadata": {
  "kernelspec": {
   "display_name": "Python 3 (ipykernel)",
   "language": "python",
   "name": "python3"
  },
  "language_info": {
   "codemirror_mode": {
    "name": "ipython",
    "version": 3
   },
   "file_extension": ".py",
   "mimetype": "text/x-python",
   "name": "python",
   "nbconvert_exporter": "python",
   "pygments_lexer": "ipython3",
   "version": "3.11.5"
  }
 },
 "nbformat": 4,
 "nbformat_minor": 5
}
