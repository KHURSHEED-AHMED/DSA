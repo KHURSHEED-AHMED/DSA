{
 "cells": [
  {
   "cell_type": "markdown",
   "id": "d91247e7",
   "metadata": {},
   "source": [
    "# Bubble sort time best O(n) and avg,worst O(n^2)"
   ]
  },
  {
   "cell_type": "code",
   "execution_count": 1,
   "id": "a1757f74",
   "metadata": {},
   "outputs": [
    {
     "name": "stdout",
     "output_type": "stream",
     "text": [
      "[1, 2, 3, 4, 5, 60]\n"
     ]
    }
   ],
   "source": [
    "def bubble_sort(A):\n",
    "    for i in range(len(A)-1):\n",
    "        flag =0\n",
    "        for j in range(len(A)-1-i):\n",
    "            if A[j] > A[j+1]:\n",
    "                A[j],A[j+1] = A[j+1],A[j]\n",
    "                flag =1\n",
    "        if flag == 0:\n",
    "            break\n",
    "            \n",
    "if __name__ == \"__main__\": \n",
    "    arr = [5,4,3,60,2,1]\n",
    "    bubble_sort(arr)\n",
    "    print(arr)\n",
    "    "
   ]
  },
  {
   "cell_type": "code",
   "execution_count": null,
   "id": "d8719f85",
   "metadata": {},
   "outputs": [],
   "source": []
  }
 ],
 "metadata": {
  "kernelspec": {
   "display_name": "Python 3 (ipykernel)",
   "language": "python",
   "name": "python3"
  },
  "language_info": {
   "codemirror_mode": {
    "name": "ipython",
    "version": 3
   },
   "file_extension": ".py",
   "mimetype": "text/x-python",
   "name": "python",
   "nbconvert_exporter": "python",
   "pygments_lexer": "ipython3",
   "version": "3.11.5"
  }
 },
 "nbformat": 4,
 "nbformat_minor": 5
}
