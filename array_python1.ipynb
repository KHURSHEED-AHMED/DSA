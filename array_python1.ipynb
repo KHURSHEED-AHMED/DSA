{
 "cells": [
  {
   "cell_type": "markdown",
   "id": "c4728beb",
   "metadata": {},
   "source": [
    "## first way of insert the value at particular index"
   ]
  },
  {
   "cell_type": "code",
   "execution_count": 1,
   "id": "c7325229",
   "metadata": {},
   "outputs": [],
   "source": [
    "import numpy as np"
   ]
  },
  {
   "cell_type": "code",
   "execution_count": 2,
   "id": "0bb6928c",
   "metadata": {},
   "outputs": [],
   "source": [
    "arr2 = []"
   ]
  },
  {
   "cell_type": "code",
   "execution_count": 3,
   "id": "d207f6a2",
   "metadata": {},
   "outputs": [
    {
     "name": "stdout",
     "output_type": "stream",
     "text": [
      "enter the number1\n",
      "enter the number2\n",
      "enter the number3\n",
      "enter the number4\n",
      "enter the number5\n"
     ]
    }
   ],
   "source": [
    "for i in range(0,5):\n",
    "    arr2.append(int(input(\"enter the number\")))\n",
    "    "
   ]
  },
  {
   "cell_type": "code",
   "execution_count": 4,
   "id": "295de2a6",
   "metadata": {},
   "outputs": [
    {
     "data": {
      "text/plain": [
       "[1, 2, 3, 4, 5]"
      ]
     },
     "execution_count": 4,
     "metadata": {},
     "output_type": "execute_result"
    }
   ],
   "source": [
    "arr2"
   ]
  },
  {
   "cell_type": "code",
   "execution_count": 5,
   "id": "1a60683c",
   "metadata": {},
   "outputs": [
    {
     "name": "stdout",
     "output_type": "stream",
     "text": [
      "enter the inde3\n"
     ]
    }
   ],
   "source": [
    "ind =  int(input(\"enter the inde\"))"
   ]
  },
  {
   "cell_type": "code",
   "execution_count": 6,
   "id": "71f8d0ba",
   "metadata": {},
   "outputs": [
    {
     "name": "stdout",
     "output_type": "stream",
     "text": [
      "enter the value9\n"
     ]
    }
   ],
   "source": [
    "value =  int(input(\"enter the value\"))"
   ]
  },
  {
   "cell_type": "code",
   "execution_count": 7,
   "id": "560b7e84",
   "metadata": {},
   "outputs": [],
   "source": [
    "arr3 = []"
   ]
  },
  {
   "cell_type": "code",
   "execution_count": 8,
   "id": "d4533992",
   "metadata": {},
   "outputs": [],
   "source": [
    "for i in range(0,6):\n",
    "    if ind > i :\n",
    "        arr3.append(arr2[i])\n",
    "    elif ind == i:\n",
    "        arr3.append(value)\n",
    "    else :\n",
    "        arr3.append(arr2[i-1])"
   ]
  },
  {
   "cell_type": "code",
   "execution_count": 9,
   "id": "ba1e53b7",
   "metadata": {},
   "outputs": [
    {
     "data": {
      "text/plain": [
       "[1, 2, 3, 9, 4, 5]"
      ]
     },
     "execution_count": 9,
     "metadata": {},
     "output_type": "execute_result"
    }
   ],
   "source": [
    "arr3"
   ]
  },
  {
   "cell_type": "markdown",
   "id": "a0cd51ae",
   "metadata": {},
   "source": [
    "## second way of the insert the value at particular index"
   ]
  },
  {
   "cell_type": "code",
   "execution_count": null,
   "id": "d6f4d303",
   "metadata": {},
   "outputs": [],
   "source": []
  },
  {
   "cell_type": "code",
   "execution_count": 10,
   "id": "e68f5be0",
   "metadata": {},
   "outputs": [
    {
     "name": "stdout",
     "output_type": "stream",
     "text": [
      "Enter the integer number: 1\n",
      "Enter the integer number: 2\n",
      "Enter the integer number: 3\n",
      "Enter the integer number: 4\n",
      "Enter the integer number: 5\n",
      "Enter the index: 1\n",
      "Enter the value: 66\n",
      "arr3: [1, 66, 2, 3, 4, 5]\n"
     ]
    }
   ],
   "source": [
    "arr2 = []\n",
    "for i in range(0, 5):\n",
    "    arr2.append(int(input(\"Enter the integer number: \")))\n",
    "\n",
    "ind = int(input(\"Enter the index: \"))\n",
    "value = int(input(\"Enter the value: \"))\n",
    "\n",
    "arr3 = []\n",
    "\n",
    "for i in range(0, 6):\n",
    "    if ind > i:\n",
    "        arr3.append(arr2[i])\n",
    "    elif ind == i:\n",
    "        # If arr3[i] doesn't exist yet, create a list with the value and append it\n",
    "        if len(arr3) <= i:\n",
    "            arr3.append(value)\n",
    "        else:\n",
    "            arr3[i].append(value)\n",
    "    # Use elif instead of else for the last condition\n",
    "    elif i > 0:\n",
    "        arr3.append(arr2[i - 1])\n",
    "\n",
    "print(\"arr3:\", arr3)\n"
   ]
  },
  {
   "cell_type": "markdown",
   "id": "e6b152a2",
   "metadata": {},
   "source": [
    "## searching the value form the array"
   ]
  },
  {
   "cell_type": "code",
   "execution_count": 11,
   "id": "8ef7a2ec",
   "metadata": {},
   "outputs": [],
   "source": [
    "def search_element(arr,key):\n",
    "    for i in range(0,len(arr)):\n",
    "        if arr[i] == key:\n",
    "            return arr[i]\n",
    "    else :\n",
    "        return -1"
   ]
  },
  {
   "cell_type": "code",
   "execution_count": 12,
   "id": "a8933770",
   "metadata": {},
   "outputs": [],
   "source": [
    "arr = [1,2,3,4,5,6,7,8]\n",
    "key = 1"
   ]
  },
  {
   "cell_type": "code",
   "execution_count": 13,
   "id": "74879d4e",
   "metadata": {},
   "outputs": [
    {
     "data": {
      "text/plain": [
       "1"
      ]
     },
     "execution_count": 13,
     "metadata": {},
     "output_type": "execute_result"
    }
   ],
   "source": [
    "search_element(arr,key)"
   ]
  },
  {
   "cell_type": "markdown",
   "id": "9883f732",
   "metadata": {},
   "source": [
    "## searching form 2D array"
   ]
  },
  {
   "cell_type": "code",
   "execution_count": 14,
   "id": "6237c125",
   "metadata": {},
   "outputs": [],
   "source": [
    "def search_2D_array(arr,key):\n",
    "    for i in range(0,len(arr)):\n",
    "        for j in range(0,i+1):\n",
    "            if arr[i][j] == key:\n",
    "                return arr[i][j]\n",
    "    else :\n",
    "        return -1"
   ]
  },
  {
   "cell_type": "code",
   "execution_count": 15,
   "id": "73114b92",
   "metadata": {},
   "outputs": [],
   "source": [
    "arr = [[1,2,3],[4,5,6],[7,8,9]]\n",
    "key = 4"
   ]
  },
  {
   "cell_type": "code",
   "execution_count": 16,
   "id": "eb3fbdf0",
   "metadata": {},
   "outputs": [
    {
     "data": {
      "text/plain": [
       "4"
      ]
     },
     "execution_count": 16,
     "metadata": {},
     "output_type": "execute_result"
    }
   ],
   "source": [
    "search_2D_array(arr,key)"
   ]
  },
  {
   "cell_type": "markdown",
   "id": "907ca2cd",
   "metadata": {},
   "source": [
    "## deleting the element form the particular index"
   ]
  },
  {
   "cell_type": "code",
   "execution_count": 17,
   "id": "54990424",
   "metadata": {},
   "outputs": [],
   "source": [
    "arr2 = []"
   ]
  },
  {
   "cell_type": "code",
   "execution_count": 18,
   "id": "6f628e30",
   "metadata": {},
   "outputs": [
    {
     "name": "stdout",
     "output_type": "stream",
     "text": [
      "enter the number1\n",
      "enter the number2\n",
      "enter the number3\n",
      "enter the number4\n",
      "enter the number5\n"
     ]
    }
   ],
   "source": [
    "for i in range(0,5):\n",
    "    arr2.append(int(input(\"enter the number\")))"
   ]
  },
  {
   "cell_type": "code",
   "execution_count": 23,
   "id": "9553ea3f",
   "metadata": {},
   "outputs": [
    {
     "name": "stdout",
     "output_type": "stream",
     "text": [
      "enter the inde3\n"
     ]
    }
   ],
   "source": [
    "ind =  int(input(\"enter the inde\"))"
   ]
  },
  {
   "cell_type": "code",
   "execution_count": 24,
   "id": "54356907",
   "metadata": {},
   "outputs": [],
   "source": [
    "arr3 = []"
   ]
  },
  {
   "cell_type": "code",
   "execution_count": 25,
   "id": "04cf41da",
   "metadata": {},
   "outputs": [],
   "source": [
    "for i in range(0,len(arr2)-1):\n",
    "    if ind > i :\n",
    "        arr3.append(arr2[i])\n",
    "    elif ind <= i:\n",
    "        arr3.append(arr2[i+1])"
   ]
  },
  {
   "cell_type": "code",
   "execution_count": 26,
   "id": "7ee74cda",
   "metadata": {},
   "outputs": [
    {
     "data": {
      "text/plain": [
       "[1, 2, 3, 5]"
      ]
     },
     "execution_count": 26,
     "metadata": {},
     "output_type": "execute_result"
    }
   ],
   "source": [
    "arr3"
   ]
  },
  {
   "cell_type": "code",
   "execution_count": null,
   "id": "bbf585bf",
   "metadata": {},
   "outputs": [],
   "source": []
  }
 ],
 "metadata": {
  "kernelspec": {
   "display_name": "Python 3 (ipykernel)",
   "language": "python",
   "name": "python3"
  },
  "language_info": {
   "codemirror_mode": {
    "name": "ipython",
    "version": 3
   },
   "file_extension": ".py",
   "mimetype": "text/x-python",
   "name": "python",
   "nbconvert_exporter": "python",
   "pygments_lexer": "ipython3",
   "version": "3.11.5"
  }
 },
 "nbformat": 4,
 "nbformat_minor": 5
}
