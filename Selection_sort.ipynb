{
 "cells": [
  {
   "cell_type": "markdown",
   "id": "bc60dca0",
   "metadata": {},
   "source": [
    "# Selection sort time best,avg and worst O(n^2)"
   ]
  },
  {
   "cell_type": "code",
   "execution_count": 1,
   "id": "656a9221",
   "metadata": {},
   "outputs": [],
   "source": [
    "A = [21,11,1,42,74,16,8]\n",
    "\n",
    "for i in range(len(A)-1):\n",
    "    min = i\n",
    "    for j in range(i+1,len(A)):\n",
    "        if A[min] > A[j]:\n",
    "           min = j\n",
    "            \n",
    "    A[min],A[i] = A[i],A[min]    \n",
    "        "
   ]
  },
  {
   "cell_type": "code",
   "execution_count": 2,
   "id": "879802dc",
   "metadata": {},
   "outputs": [
    {
     "name": "stdout",
     "output_type": "stream",
     "text": [
      "1 8 11 16 21 42 74 "
     ]
    }
   ],
   "source": [
    "for i in range(len(A)):\n",
    "    print(A[i],end=\" \")"
   ]
  },
  {
   "cell_type": "code",
   "execution_count": null,
   "id": "9737a750",
   "metadata": {},
   "outputs": [],
   "source": []
  }
 ],
 "metadata": {
  "kernelspec": {
   "display_name": "Python 3 (ipykernel)",
   "language": "python",
   "name": "python3"
  },
  "language_info": {
   "codemirror_mode": {
    "name": "ipython",
    "version": 3
   },
   "file_extension": ".py",
   "mimetype": "text/x-python",
   "name": "python",
   "nbconvert_exporter": "python",
   "pygments_lexer": "ipython3",
   "version": "3.11.5"
  }
 },
 "nbformat": 4,
 "nbformat_minor": 5
}
