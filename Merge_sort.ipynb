{
 "cells": [
  {
   "cell_type": "markdown",
   "id": "dcce9302",
   "metadata": {},
   "source": [
    "# Time taken by the merge sort in all the cases best,avg,worst is O(nlogn)."
   ]
  },
  {
   "cell_type": "code",
   "execution_count": 1,
   "id": "2be6880e",
   "metadata": {},
   "outputs": [
    {
     "name": "stdout",
     "output_type": "stream",
     "text": [
      "[1, 3, 4, 7, 9]\n"
     ]
    }
   ],
   "source": [
    "def merge_sort(A, lower, mid, upper):\n",
    "    i = lower\n",
    "    j = mid + 1\n",
    "    k = lower\n",
    "    b = [0] * (upper + 1)  # Correctly initialize array b\n",
    "\n",
    "    while i <= mid and j <= upper:\n",
    "        if A[i] <= A[j]:\n",
    "            b[k] = A[i]\n",
    "            i += 1\n",
    "        else:\n",
    "            b[k] = A[j]\n",
    "            j += 1\n",
    "        k += 1\n",
    "\n",
    "    while i <= mid:\n",
    "        b[k] = A[i]\n",
    "        i += 1\n",
    "        k += 1\n",
    "\n",
    "    while j <= upper:\n",
    "        b[k] = A[j]\n",
    "        j += 1\n",
    "        k += 1\n",
    "\n",
    "    for k in range(lower, upper + 1):  # Correct the range\n",
    "        A[k] = b[k]\n",
    "\n",
    "\n",
    "def merge_sort_recursive(A, lower, upper):\n",
    "    if lower < upper:\n",
    "        mid = (lower + upper) // 2  # Ensure mid is an integer\n",
    "        merge_sort_recursive(A, lower, mid)\n",
    "        merge_sort_recursive(A, mid + 1, upper)\n",
    "        merge_sort(A, lower, mid, upper)\n",
    "\n",
    "\n",
    "if __name__ == '__main__':\n",
    "    A = [4, 1, 3, 9, 7]\n",
    "    lower = 0\n",
    "    upper = len(A) - 1\n",
    "    merge_sort_recursive(A, lower, upper)\n",
    "    print(A)\n"
   ]
  },
  {
   "cell_type": "code",
   "execution_count": null,
   "id": "ca22fcc5",
   "metadata": {},
   "outputs": [],
   "source": []
  },
  {
   "cell_type": "code",
   "execution_count": 2,
   "id": "9f66f48a",
   "metadata": {},
   "outputs": [
    {
     "name": "stdout",
     "output_type": "stream",
     "text": [
      "[1, 3, 4, 7, 9]\n"
     ]
    }
   ],
   "source": [
    "class Solution:\n",
    "    def merge(self,arr, l, m, r):\n",
    "        \n",
    "        temp=[]\n",
    "        left=l\n",
    "        right=m+1\n",
    "        \n",
    "        while left<=m and right<=r:\n",
    "            if arr[left]<=arr[right]:\n",
    "                temp.append(arr[left])\n",
    "                left+=1\n",
    "            else:\n",
    "                temp.append(arr[right])\n",
    "                right+=1\n",
    "                \n",
    "        while left<=m:\n",
    "            temp.append(arr[left])\n",
    "            left+=1\n",
    "            \n",
    "        while right<=r:\n",
    "            temp.append(arr[right])\n",
    "            right+=1\n",
    "            \n",
    "        \n",
    "        for i in range(l,r+1):\n",
    "            arr[i]=temp[i-l] #putting the sorted array of temp into the arr[]\n",
    "\n",
    "    def mergeSort(self,arr, l, r):\n",
    "        if l>=r: #condition to check tht the low would not get equal to the high or indexs cross naa ho jayee\n",
    "            return \n",
    "        mid= (l+r)//2 \n",
    "        self.mergeSort(arr,l,mid) #recursion call-->low to mid \n",
    "        self.mergeSort(arr,mid+1,r) #recursion call-->mid+1 to high\n",
    "        self.merge(arr,l,mid,r) #call to merge()func.\n",
    "if __name__ == '__main__':\n",
    "    A = [4, 1, 3, 9, 7]\n",
    "    lower = 0\n",
    "    upper = len(A) - 1\n",
    "    merge_sort_recursive(A, lower, upper)\n",
    "    print(A)        "
   ]
  },
  {
   "cell_type": "code",
   "execution_count": null,
   "id": "28911a64",
   "metadata": {},
   "outputs": [],
   "source": []
  }
 ],
 "metadata": {
  "kernelspec": {
   "display_name": "Python 3 (ipykernel)",
   "language": "python",
   "name": "python3"
  },
  "language_info": {
   "codemirror_mode": {
    "name": "ipython",
    "version": 3
   },
   "file_extension": ".py",
   "mimetype": "text/x-python",
   "name": "python",
   "nbconvert_exporter": "python",
   "pygments_lexer": "ipython3",
   "version": "3.11.5"
  }
 },
 "nbformat": 4,
 "nbformat_minor": 5
}
