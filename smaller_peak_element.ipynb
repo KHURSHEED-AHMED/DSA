{
 "cells": [
  {
   "cell_type": "markdown",
   "metadata": {},
   "source": [
    "# DSA problem find the peak element which is samller than its neighbours"
   ]
  },
  {
   "cell_type": "code",
   "execution_count": 1,
   "metadata": {},
   "outputs": [
    {
     "data": {
      "text/plain": [
       "3"
      ]
     },
     "execution_count": 1,
     "metadata": {},
     "output_type": "execute_result"
    }
   ],
   "source": [
    "# DSA problem find the peak element which is samller than its neighbours and return its index\n",
    "def peak_elements(arr,n):\n",
    "    if n == 1:\n",
    "        return 0\n",
    "    if arr[0] >= arr[1]:\n",
    "        return 0\n",
    "    \n",
    "    for i in range(1,n-1):\n",
    "        if arr[i] >= arr[i-1] and arr[i] >= arr[i+1]:\n",
    "            return i\n",
    "    \n",
    "    if arr[n-1] >= arr[n-2]:\n",
    "        return n-1\n",
    "\n",
    "arr = [1,2,3,8,4,5]\n",
    "n = len(arr)\n",
    "peak_elements(arr,n)"
   ]
  },
  {
   "cell_type": "code",
   "execution_count": null,
   "metadata": {},
   "outputs": [],
   "source": []
  }
 ],
 "metadata": {
  "kernelspec": {
   "display_name": "Python 3",
   "language": "python",
   "name": "python3"
  },
  "language_info": {
   "codemirror_mode": {
    "name": "ipython",
    "version": 3
   },
   "file_extension": ".py",
   "mimetype": "text/x-python",
   "name": "python",
   "nbconvert_exporter": "python",
   "pygments_lexer": "ipython3",
   "version": "3.11.4"
  }
 },
 "nbformat": 4,
 "nbformat_minor": 2
}
