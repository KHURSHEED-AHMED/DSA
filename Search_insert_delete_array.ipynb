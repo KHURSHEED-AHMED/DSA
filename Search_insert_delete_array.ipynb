{
 "cells": [
  {
   "cell_type": "code",
   "execution_count": 6,
   "id": "e70e75c7",
   "metadata": {},
   "outputs": [
    {
     "name": "stdout",
     "output_type": "stream",
     "text": [
      "value not found\n"
     ]
    }
   ],
   "source": [
    "def search_value(arr ,key):\n",
    "    for i in range(len(arr)):\n",
    "        if arr[i] == key :\n",
    "            return i\n",
    "    return -1\n",
    "\n",
    "if __name__ == '__main__':\n",
    "    \n",
    "    arr = [23,30,11,2,87,4]\n",
    "    key = 1\n",
    "    inde = search_value(arr,key)\n",
    "    if inde >=0:\n",
    "        print(\"the value is at this position \"+str(inde))\n",
    "    else:\n",
    "        print(\"value not found\")"
   ]
  },
  {
   "cell_type": "code",
   "execution_count": null,
   "id": "75d2aea6",
   "metadata": {},
   "outputs": [],
   "source": [
    "\n"
   ]
  },
  {
   "cell_type": "code",
   "execution_count": 7,
   "id": "e2c1b65d",
   "metadata": {},
   "outputs": [],
   "source": [
    "# insertion at first,last or any position"
   ]
  },
  {
   "cell_type": "code",
   "execution_count": 17,
   "id": "740ee1c6",
   "metadata": {},
   "outputs": [
    {
     "name": "stdout",
     "output_type": "stream",
     "text": [
      "[20, 1, 2, 3, 4, 5]\n"
     ]
    }
   ],
   "source": [
    "def insert_value(arr):\n",
    "    arr.append(4)\n",
    "    arr.append(5)\n",
    "    arr.insert(0,20)\n",
    "    \n",
    "    \n",
    "if __name__ == '__main__' :\n",
    "    \n",
    "    arr = [1,2,3]\n",
    "    insert_value(arr)\n",
    "    print(arr)\n"
   ]
  },
  {
   "cell_type": "code",
   "execution_count": null,
   "id": "a524acd3",
   "metadata": {},
   "outputs": [],
   "source": [
    "\n"
   ]
  },
  {
   "cell_type": "code",
   "execution_count": 40,
   "id": "032ee460",
   "metadata": {},
   "outputs": [
    {
     "name": "stdout",
     "output_type": "stream",
     "text": [
      "[1, 2, 3, 4, 5, 6, 7, 8, 9]\n"
     ]
    }
   ],
   "source": [
    "def arry_insert(arr,po,val,b):\n",
    "  \n",
    "    for i in range(len(arr)+1):\n",
    "        if i < po :\n",
    "            b[i] = arr[i]\n",
    "        elif i == po:\n",
    "            b[po] = val\n",
    "        else:\n",
    "            b[i] = arr[i-1]\n",
    "            \n",
    "if __name__ == '__main__':\n",
    "    \n",
    "    arr = [1,2,3,4,5,6,7,9]\n",
    "    pos = 7\n",
    "    val =8\n",
    "    b = [0]*(len(arr)+1)\n",
    "    arry_insert(arr,pos,val,b)\n",
    "    print(b)\n",
    "    "
   ]
  },
  {
   "cell_type": "code",
   "execution_count": null,
   "id": "d585b13d",
   "metadata": {},
   "outputs": [],
   "source": []
  },
  {
   "cell_type": "code",
   "execution_count": 58,
   "id": "4249e3a0",
   "metadata": {},
   "outputs": [
    {
     "name": "stdout",
     "output_type": "stream",
     "text": [
      "[1, 2, 3, 4, 5, 8, 7]\n"
     ]
    }
   ],
   "source": [
    "def arry_insert(arr,pos,b):\n",
    "  \n",
    "    for i in range(len(arr)-1):\n",
    "        if i < pos :\n",
    "            b[i] = arr[i]\n",
    "        elif i == pos:\n",
    "            b[i] = arr[i+1]\n",
    "        else:\n",
    "            b[i] = arr[i+1]\n",
    "            \n",
    "if __name__ == '__main__':\n",
    "    \n",
    "    arr = [1,2,3,4,5,8,7,9]\n",
    "    pos = 7\n",
    "    b = [0]*(len(arr)-1)\n",
    "    arry_insert(arr,pos,b)\n",
    "    print(b)\n",
    "    "
   ]
  },
  {
   "cell_type": "code",
   "execution_count": null,
   "id": "ba1b4433",
   "metadata": {},
   "outputs": [],
   "source": []
  }
 ],
 "metadata": {
  "kernelspec": {
   "display_name": "Python 3 (ipykernel)",
   "language": "python",
   "name": "python3"
  },
  "language_info": {
   "codemirror_mode": {
    "name": "ipython",
    "version": 3
   },
   "file_extension": ".py",
   "mimetype": "text/x-python",
   "name": "python",
   "nbconvert_exporter": "python",
   "pygments_lexer": "ipython3",
   "version": "3.11.5"
  }
 },
 "nbformat": 4,
 "nbformat_minor": 5
}
