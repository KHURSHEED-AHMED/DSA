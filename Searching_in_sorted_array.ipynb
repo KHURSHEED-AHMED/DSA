{
 "cells": [
  {
   "cell_type": "code",
   "execution_count": 14,
   "id": "5d77c751",
   "metadata": {},
   "outputs": [
    {
     "name": "stdout",
     "output_type": "stream",
     "text": [
      "value is at this pos 5\n"
     ]
    }
   ],
   "source": [
    "def insertion_in_sorted_array(arr,low,high,key):\n",
    "    \n",
    "    mid  = int((low + high)/2)\n",
    "    \n",
    "    if arr[mid] == key:\n",
    "        return mid\n",
    "    \n",
    "    elif arr[mid] < key:\n",
    "        return insertion_in_sorted_array(arr,mid+1,high,key)\n",
    "    \n",
    "    elif arr[mid] > key:\n",
    "        return insertion_in_sorted_array(arr,low,mid-1,key)\n",
    "    \n",
    "    return 0\n",
    "\n",
    "if __name__ == '__main__':\n",
    "    arr = [1,3,5,7,9,10]\n",
    "    val =10\n",
    "    \n",
    "    print(\"value is at this pos\",insertion_in_sorted_array(arr,0,len(arr)-1,val))\n",
    "\n",
    "    \n",
    "       "
   ]
  },
  {
   "cell_type": "code",
   "execution_count": null,
   "id": "a28956d2",
   "metadata": {},
   "outputs": [],
   "source": []
  }
 ],
 "metadata": {
  "kernelspec": {
   "display_name": "Python 3 (ipykernel)",
   "language": "python",
   "name": "python3"
  },
  "language_info": {
   "codemirror_mode": {
    "name": "ipython",
    "version": 3
   },
   "file_extension": ".py",
   "mimetype": "text/x-python",
   "name": "python",
   "nbconvert_exporter": "python",
   "pygments_lexer": "ipython3",
   "version": "3.11.5"
  }
 },
 "nbformat": 4,
 "nbformat_minor": 5
}
